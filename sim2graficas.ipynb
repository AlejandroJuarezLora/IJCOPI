{
 "cells": [
  {
   "cell_type": "code",
   "execution_count": 6,
   "metadata": {},
   "outputs": [
    {
     "data": {
      "application/vdom.v1+json": {
       "attributes": {},
       "tagName": "div"
      },
      "text/html": [
       "\n",
       "                <script>\n",
       "                    if (Jupyter.version.split(\".\")[0] < 5) {\n",
       "                        var pb = document.getElementById(\"53f50ec8-311a-4411-ae9e-405e0b17fc9e\");\n",
       "                        var text = document.createTextNode(\n",
       "                            \"HMTL progress bar requires Jupyter Notebook >= \" +\n",
       "                            \"5.0 or Jupyter Lab. Alternatively, you can use \" +\n",
       "                            \"TerminalProgressBar().\");\n",
       "                        pb.parentNode.insertBefore(text, pb);\n",
       "                    }\n",
       "                </script>\n",
       "                <div id=\"53f50ec8-311a-4411-ae9e-405e0b17fc9e\" style=\"\n",
       "                    width: 100%;\n",
       "                    border: 1px solid #cfcfcf;\n",
       "                    border-radius: 4px;\n",
       "                    text-align: center;\n",
       "                    position: relative;\">\n",
       "                  <div class=\"pb-text\" style=\"\n",
       "                      position: absolute;\n",
       "                      width: 100%;\">\n",
       "                    0%\n",
       "                  </div>\n",
       "                  <div class=\"pb-fill\" style=\"\n",
       "                      background-color: #bdd2e6;\n",
       "                      width: 0%;\">\n",
       "                    <style type=\"text/css\" scoped=\"scoped\">\n",
       "                        @keyframes pb-fill-anim {\n",
       "                            0% { background-position: 0 0; }\n",
       "                            100% { background-position: 100px 0; }\n",
       "                        }\n",
       "                    </style>\n",
       "                    &nbsp;\n",
       "                  </div>\n",
       "                </div>"
      ],
      "text/plain": [
       "HtmlProgressBar cannot be displayed. Please use the TerminalProgressBar. It can be enabled with `nengo.rc['progress']['progress_bar'] = 'nengo.utils.progress.TerminalProgressBar'`."
      ]
     },
     "metadata": {},
     "output_type": "display_data"
    },
    {
     "data": {
      "application/vdom.v1+json": {
       "attributes": {
        "id": "7ac81fba-204d-4719-ab8b-8847d5cc1717",
        "style": {
         "border": "1px solid #cfcfcf",
         "borderRadius": "4px",
         "boxSizing": "border-box",
         "position": "relative",
         "textAlign": "center",
         "width": "100%"
        }
       },
       "children": [
        {
         "attributes": {
          "class": "pb-text",
          "style": {
           "position": "absolute",
           "width": "100%"
          }
         },
         "children": [
          "Build finished in 0:00:04."
         ],
         "tagName": "div"
        },
        {
         "attributes": {
          "class": "pb-fill",
          "style": {
           "animation": "none",
           "backgroundColor": "#bdd2e6",
           "backgroundImage": "none",
           "backgroundSize": "100px 100%",
           "width": "100%"
          }
         },
         "children": [
          {
           "attributes": {
            "scoped": "scoped",
            "type": "text/css"
           },
           "children": [
            "\n                        @keyframes pb-fill-anim {\n                            0% { background-position: 0 0; }\n                            100% { background-position: 100px 0; }\n                        }}"
           ],
           "tagName": "style"
          },
          " "
         ],
         "tagName": "div"
        }
       ],
       "tagName": "div"
      },
      "text/html": [
       "<script>\n",
       "              (function () {\n",
       "                  var root = document.getElementById('53f50ec8-311a-4411-ae9e-405e0b17fc9e');\n",
       "                  var text = root.getElementsByClassName('pb-text')[0];\n",
       "                  var fill = root.getElementsByClassName('pb-fill')[0];\n",
       "\n",
       "                  text.innerHTML = 'Build finished in 0:00:04.';\n",
       "                  \n",
       "            fill.style.width = '100%';\n",
       "            fill.style.animation = 'pb-fill-anim 2s linear infinite';\n",
       "            fill.style.backgroundSize = '100px 100%';\n",
       "            fill.style.backgroundImage = 'repeating-linear-gradient(' +\n",
       "                '90deg, #bdd2e6, #edf2f8 40%, #bdd2e6 80%, #bdd2e6)';\n",
       "        \n",
       "                  \n",
       "                fill.style.animation = 'none';\n",
       "                fill.style.backgroundImage = 'none';\n",
       "            \n",
       "              })();\n",
       "        </script>"
      ]
     },
     "metadata": {},
     "output_type": "display_data"
    },
    {
     "data": {
      "application/vdom.v1+json": {
       "attributes": {},
       "tagName": "div"
      },
      "text/html": [
       "\n",
       "                <script>\n",
       "                    if (Jupyter.version.split(\".\")[0] < 5) {\n",
       "                        var pb = document.getElementById(\"0c6bb988-2ab7-444e-a5e3-fdd32a7cb950\");\n",
       "                        var text = document.createTextNode(\n",
       "                            \"HMTL progress bar requires Jupyter Notebook >= \" +\n",
       "                            \"5.0 or Jupyter Lab. Alternatively, you can use \" +\n",
       "                            \"TerminalProgressBar().\");\n",
       "                        pb.parentNode.insertBefore(text, pb);\n",
       "                    }\n",
       "                </script>\n",
       "                <div id=\"0c6bb988-2ab7-444e-a5e3-fdd32a7cb950\" style=\"\n",
       "                    width: 100%;\n",
       "                    border: 1px solid #cfcfcf;\n",
       "                    border-radius: 4px;\n",
       "                    text-align: center;\n",
       "                    position: relative;\">\n",
       "                  <div class=\"pb-text\" style=\"\n",
       "                      position: absolute;\n",
       "                      width: 100%;\">\n",
       "                    0%\n",
       "                  </div>\n",
       "                  <div class=\"pb-fill\" style=\"\n",
       "                      background-color: #bdd2e6;\n",
       "                      width: 0%;\">\n",
       "                    <style type=\"text/css\" scoped=\"scoped\">\n",
       "                        @keyframes pb-fill-anim {\n",
       "                            0% { background-position: 0 0; }\n",
       "                            100% { background-position: 100px 0; }\n",
       "                        }\n",
       "                    </style>\n",
       "                    &nbsp;\n",
       "                  </div>\n",
       "                </div>"
      ],
      "text/plain": [
       "HtmlProgressBar cannot be displayed. Please use the TerminalProgressBar. It can be enabled with `nengo.rc['progress']['progress_bar'] = 'nengo.utils.progress.TerminalProgressBar'`."
      ]
     },
     "metadata": {},
     "output_type": "display_data"
    },
    {
     "data": {
      "application/vdom.v1+json": {
       "attributes": {
        "id": "32e79fa9-9e99-4bc6-99be-f371535b52b8",
        "style": {
         "border": "1px solid #cfcfcf",
         "borderRadius": "4px",
         "boxSizing": "border-box",
         "position": "relative",
         "textAlign": "center",
         "width": "100%"
        }
       },
       "children": [
        {
         "attributes": {
          "class": "pb-text",
          "style": {
           "position": "absolute",
           "width": "100%"
          }
         },
         "children": [
          "Simulation finished in 0:02:12."
         ],
         "tagName": "div"
        },
        {
         "attributes": {
          "class": "pb-fill",
          "style": {
           "animation": "none",
           "backgroundColor": "#bdd2e6",
           "backgroundImage": "none",
           "transition": "width 0.1s linear",
           "width": "100%"
          }
         },
         "children": [
          {
           "attributes": {
            "scoped": "scoped",
            "type": "text/css"
           },
           "children": [
            "\n                        @keyframes pb-fill-anim {\n                            0% { background-position: 0 0; }\n                            100% { background-position: 100px 0; }\n                        }}"
           ],
           "tagName": "style"
          },
          " "
         ],
         "tagName": "div"
        }
       ],
       "tagName": "div"
      },
      "text/html": [
       "<script>\n",
       "              (function () {\n",
       "                  var root = document.getElementById('0c6bb988-2ab7-444e-a5e3-fdd32a7cb950');\n",
       "                  var text = root.getElementsByClassName('pb-text')[0];\n",
       "                  var fill = root.getElementsByClassName('pb-fill')[0];\n",
       "\n",
       "                  text.innerHTML = 'Simulation finished in 0:02:12.';\n",
       "                  \n",
       "            if (100.0 > 0.) {\n",
       "                fill.style.transition = 'width 0.1s linear';\n",
       "            } else {\n",
       "                fill.style.transition = 'none';\n",
       "            }\n",
       "\n",
       "            fill.style.width = '100.0%';\n",
       "            fill.style.animation = 'none';\n",
       "            fill.style.backgroundImage = 'none'\n",
       "        \n",
       "                  \n",
       "                fill.style.animation = 'none';\n",
       "                fill.style.backgroundImage = 'none';\n",
       "            \n",
       "              })();\n",
       "        </script>"
      ]
     },
     "metadata": {},
     "output_type": "display_data"
    },
    {
     "data": {
      "text/plain": [
       "Text(0.5, 1.0, 'Estados del segway')"
      ]
     },
     "execution_count": 6,
     "metadata": {},
     "output_type": "execute_result"
    },
    {
     "data": {
      "image/png": "[encoded data removed]",
      "text/plain": [
       "<Figure size 432x288 with 1 Axes>"
      ]
     },
     "metadata": {
      "needs_background": "light"
     },
     "output_type": "display_data"
    },
    {
     "data": {
      "image/png": "[encoded data removed]",
      "text/plain": [
       "<Figure size 432x288 with 1 Axes>"
      ]
     },
     "metadata": {
      "needs_background": "light"
     },
     "output_type": "display_data"
    },
    {
     "data": {
      "image/png": "[encoded data removed]",
      "text/plain": [
       "<Figure size 432x288 with 1 Axes>"
      ]
     },
     "metadata": {
      "needs_background": "light"
     },
     "output_type": "display_data"
    }
   ],
   "source": [
    "import importlib\n",
    "import numpy as np\n",
    "import nengo\n",
    "import matplotlib.pyplot as plt\n",
    "import segway; importlib.reload(segway)\n",
    "\n",
    "\n",
    "estado_inicial = np.array([4.,0., 0.1, 0.])  #condiciones iniciales q\n",
    "estado_deseado = np.array([6., 0., 0., 0.])\n",
    "estado_deseado2 = np.array([4., 0., 0., 0.])\n",
    "\n",
    "segway_sim = segway.SegwayLink(dt = 1e-3)\n",
    "segway_sim.init_q = estado_inicial\n",
    "segway_sim.reset()\n",
    "\n",
    "model = nengo.Network(seed=0)\n",
    "with model:\n",
    "    #creando el nodo del segway\n",
    "    model.segway_node = segway_sim.create_nengo_node()\n",
    "    #creando la referencia\n",
    "    model.ref = nengo.Network('REF')\n",
    "    with model.ref:\n",
    "        def PMC_func(t):\n",
    "            if t<30:\n",
    "                return estado_deseado\n",
    "            return estado_deseado2\n",
    "        model.ref.output = nengo.Node(output = PMC_func, label = 'Referencia')\n",
    "\n",
    "    #enviando la referencia al nodo segway para graficarla\n",
    "    nengo.Connection(model.ref.output[0], model.segway_node[1])\n",
    "    nengo.Connection(model.ref.output[2], model.segway_node[2])\n",
    "\n",
    "    model.error = nengo.Ensemble(300,4, radius = 3.1416, label = 'Error')\n",
    "\n",
    "\n",
    "\n",
    "    #creando un ensamble que mapee los estados del segway a la red\n",
    "    model.cerebelo = nengo.Ensemble(1000, 4, radius = 10)\n",
    "\n",
    "     #creando nodo de control\n",
    "    model.u = nengo.Ensemble(1000,4, radius = 350)\n",
    "\n",
    "    #envia el estado deseado al nodo error (transform = -1 es para restar x - xd)\n",
    "    nengo.Connection(model.ref.output, model.error, transform = -1)\n",
    "\n",
    "    #conectando la salida [dq0, ddq0, dq1, ddq1] del segway al cerebelo\n",
    "    nengo.Connection(model.segway_node[:4], model.cerebelo)\n",
    "    #conectando la salida del segway al error\n",
    "    nengo.Connection(model.cerebelo, model.error)\n",
    "\n",
    "    nengo.Connection(model.error, model.u, transform = [100,323.3434,542.0927,541.08])\n",
    "\n",
    "\n",
    "    model.u_sum = nengo.Ensemble(1000,1,radius=50)\n",
    "    nengo.Connection(model.u[0], model.u_sum)\n",
    "    nengo.Connection(model.u[1], model.u_sum)\n",
    "    nengo.Connection(model.u[2], model.u_sum)\n",
    "    nengo.Connection(model.u[3], model.u_sum)\n",
    "    #enviando la señal de control\n",
    "    nengo.Connection(model.u_sum, model.segway_node[0])\n",
    "\n",
    "    #creando nodo de control aprendido\n",
    "    model.u_est = nengo.Ensemble(1000,1,radius=50)\n",
    "    conn = nengo.Connection(model.u_sum, model.u_est, function=lambda x: np.random.random())\n",
    "    model.error_u = nengo.Ensemble(500, 1, radius = 10)\n",
    "    nengo.Connection(model.u_sum,model.error_u, transform=-1)\n",
    "    nengo.Connection(model.u_est, model.error_u)\n",
    "    # Add the learning rule to the connection\n",
    "    conn.learning_rule_type = nengo.PES()\n",
    "\n",
    "    # Connect the error into the learning rule\n",
    "    nengo.Connection(model.error_u, conn.learning_rule)\n",
    "    #mandando probes\n",
    "    data_usum = nengo.Probe(model.u_sum)\n",
    "    data_uest = nengo.Probe(model.u_est)\n",
    "    data_erroru = nengo.Probe(model.error_u)\n",
    "    data_estados = nengo.Probe(model.segway_node[:4])\n",
    "\n",
    "\n",
    "\n",
    "with nengo.Simulator(model) as sim:\n",
    "    sim.run(60.0)\n",
    "\n",
    "fig1, (axs1) = plt.subplots(1)\n",
    "axs1.plot(sim.trange(), sim.data[data_usum], label = \"Control real\")\n",
    "axs1.plot(sim.trange(), sim.data[data_uest], label = \"Control estimado\")\n",
    "axs1.legend()\n",
    "axs1.set(xlabel = 'tiempo[s]' , ylabel = 'Señal de control')\n",
    "axs1.set_title('Evolución del control')\n",
    "\n",
    "fig2, (axs2) = plt.subplots(1)\n",
    "axs2.plot(sim.trange(), sim.data[data_erroru], label = \"Error en la estimación\")\n",
    "axs2.legend()\n",
    "axs2.set(xlabel = 'tiempo[s]' , ylabel = 'Error en la estimación')\n",
    "axs2.set_title('Error en la estimación')\n",
    "\n",
    "fig3, (axs3) = plt.subplots(1)\n",
    "axs3.plot(sim.trange(), sim.data[data_estados], label = [\"q0\", \"dq0\", \"q1\", \"dq1\"])\n",
    "axs3.set(xlabel = 'tiempo[s]' , ylabel = 'Estados')\n",
    "axs3.set_title('Estados del segway')\n",
    "\n",
    "\n",
    "\n",
    "\n",
    "   \n",
    "\n",
    "    \n",
    "\n",
    "\n"
   ]
  },
  {
   "cell_type": "code",
   "execution_count": null,
   "metadata": {},
   "outputs": [],
   "source": []
  }
 ],
 "metadata": {
  "kernelspec": {
   "display_name": "Python 3",
   "language": "python",
   "name": "python3"
  },
  "language_info": {
   "codemirror_mode": {
    "name": "ipython",
    "version": 3
   },
   "file_extension": ".py",
   "mimetype": "text/x-python",
   "name": "python",
   "nbconvert_exporter": "python",
   "pygments_lexer": "ipython3",
   "version": "3.8.5"
  }
 },
 "nbformat": 4,
 "nbformat_minor": 4
}
